{
 "cells": [
  {
   "cell_type": "code",
   "execution_count": null,
   "metadata": {},
   "outputs": [],
   "source": [
    "!pip install pulp"
   ]
  },
  {
   "cell_type": "code",
   "execution_count": null,
   "metadata": {
    "vscode": {
     "languageId": "julia"
    }
   },
   "outputs": [],
   "source": [
    "import pulp #Python library for linear programming"
   ]
  },
  {
   "cell_type": "code",
   "execution_count": null,
   "metadata": {
    "vscode": {
     "languageId": "julia"
    }
   },
   "outputs": [],
   "source": [
    "model = pulp.LpProblem(\"ResourceAllocation\", pulp.LpMaximize)"
   ]
  },
  {
   "attachments": {},
   "cell_type": "markdown",
   "metadata": {},
   "source": [
    "Adding the decision variables for the number of units of each product"
   ]
  },
  {
   "cell_type": "code",
   "execution_count": null,
   "metadata": {
    "vscode": {
     "languageId": "julia"
    }
   },
   "outputs": [],
   "source": [
    "productA = pulp.LpVariable(\"Product_A\", lowBound=0, cat=\"Integer\")\n",
    "productB = pulp.LpVariable(\"Product_B\", lowBound=0, cat=\"Integer\")\n",
    "productC = pulp.LpVariable(\"Product_C\", lowBound=0, cat=\"Integer\")"
   ]
  },
  {
   "attachments": {},
   "cell_type": "markdown",
   "metadata": {},
   "source": [
    "Define the objective function as the total profit"
   ]
  },
  {
   "cell_type": "code",
   "execution_count": null,
   "metadata": {
    "vscode": {
     "languageId": "julia"
    }
   },
   "outputs": [],
   "source": [
    "model += 30 * productA + 40 * productB + 50 * productC, \"Total_Profit\""
   ]
  },
  {
   "attachments": {},
   "cell_type": "markdown",
   "metadata": {},
   "source": [
    "Adding constraints for production capacity, material availability, and labor hours"
   ]
  },
  {
   "cell_type": "code",
   "execution_count": null,
   "metadata": {
    "vscode": {
     "languageId": "julia"
    }
   },
   "outputs": [],
   "source": [
    "model += productA + productB + productC <= 100, \"Production_capacity\"\n",
    "model += 2 * productA + productB + 2 * productC <= 160, \"Material_availability\"\n",
    "model += 3 * productA + 2 * productB + productC <= 180, \"Labor_hours\""
   ]
  },
  {
   "cell_type": "code",
   "execution_count": null,
   "metadata": {
    "vscode": {
     "languageId": "julia"
    }
   },
   "outputs": [],
   "source": [
    "model.solve()\n",
    "\n",
    "print(\"Optimal solution:\")\n",
    "print(\"Product A:\", productA.varValue)\n",
    "print(\"Product B:\", productB.varValue)\n",
    "print(\"Product C:\", productC.varValue)\n",
    "print(\"Total profit: $\", pulp.value(model.objective))"
   ]
  },
  {
   "cell_type": "code",
   "execution_count": null,
   "metadata": {
    "vscode": {
     "languageId": "julia"
    }
   },
   "outputs": [],
   "source": [
    "import time\n",
    "import contextlib\n",
    "\n",
    "@contextlib.contextmanager\n",
    "def timer():\n",
    "    start_time = time.perf_counter()\n",
    "    try:\n",
    "        yield\n",
    "    finally:\n",
    "        end_time = time.perf_counter()\n",
    "        elapsed_time = end_time - start_time\n",
    "        print(f\"Elapsed time: {elapsed_time:.4f} seconds\")"
   ]
  },
  {
   "cell_type": "code",
   "execution_count": null,
   "metadata": {
    "vscode": {
     "languageId": "julia"
    }
   },
   "outputs": [],
   "source": [
    "with timer():\n",
    "    model.solve()"
   ]
  },
  {
   "cell_type": "code",
   "execution_count": null,
   "metadata": {
    "vscode": {
     "languageId": "julia"
    }
   },
   "outputs": [],
   "source": []
  },
  {
   "attachments": {},
   "cell_type": "markdown",
   "metadata": {},
   "source": [
    "for larger, more complex problems, Julia may provide better performance due to its just-in-time (JIT) compilation and optimized linear algebra libraries."
   ]
  },
  {
   "attachments": {},
   "cell_type": "markdown",
   "metadata": {},
   "source": []
  }
 ],
 "metadata": {
  "language_info": {
   "name": "python"
  },
  "orig_nbformat": 4
 },
 "nbformat": 4,
 "nbformat_minor": 2
}
